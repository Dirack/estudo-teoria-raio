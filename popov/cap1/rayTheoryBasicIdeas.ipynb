{
 "cells": [
  {
   "cell_type": "markdown",
   "metadata": {},
   "source": [
    "### Basic equations of the ray theory for the reduced wave equation\n",
    "\n",
    "Considerando a equação da onda:\n",
    "\n",
    "$$\\nabla^2 W - \\frac{1}{C^2}\\frac{\\partial W}{\\partial t^2} = 0$$\n",
    "\n",
    "O operador laplaciano:\n",
    "\n",
    "$$\\nabla^2 = \\frac{\\partial^2}{\\partial x^2} + \\frac{\\partial^2}{\\partial y^2} + \\frac{\\partial^2}{\\partial z^2}$$\n",
    "\n",
    "$C$ é constante, e é a velocidade de propagação do campo de ondas $W$.\n",
    "\n",
    "$$W = e^{i\\phi}= \\cos \\phi + i \\sin \\phi$$\n",
    "\n",
    "$$i^2=-1$$\n",
    "\n",
    "$$\\phi=-wt+k_1 x+k_2 y + k_3 z$$\n",
    "\n",
    "Onde $\\omega$, $k_1$, $k_2$, $k_3$, são constantes.\n",
    "\n",
    "$$\\frac{\\partial W}{\\partial t}=e^{i\\phi}i\\frac{\\partial \\phi}{\\partial t}=-i\\omega W$$\n",
    "\n",
    "$$\\frac{\\partial^2 W}{\\partial t^2}=(-i\\omega)^2W$$\n",
    "\n",
    "$$\\frac{\\partial W}{\\partial x}=ik_1W$$\n",
    "\n",
    "$$\\frac{\\partial^2 W}{\\partial x^2}=(ik_1)^2W$$\n",
    "\n",
    "Então:\n",
    "\n",
    "$$\\nabla^2 W - \\frac{1}{C^2}\\frac{\\partial W}{\\partial t^2} =\n",
    "W \\left[ -\\frac{(-i\\omega)^2}{C^2}+(ik_1)^2+(ik_2)^2+(ik_3)^2\\right] = 0$$"
   ]
  }
 ],
 "metadata": {
  "kernelspec": {
   "display_name": "Python 3",
   "language": "python",
   "name": "python3"
  },
  "language_info": {
   "codemirror_mode": {
    "name": "ipython",
    "version": 3
   },
   "file_extension": ".py",
   "mimetype": "text/x-python",
   "name": "python",
   "nbconvert_exporter": "python",
   "pygments_lexer": "ipython3",
   "version": "3.8.2"
  }
 },
 "nbformat": 4,
 "nbformat_minor": 2
}
