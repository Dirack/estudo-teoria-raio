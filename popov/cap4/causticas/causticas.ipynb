{
 "cells": [
  {
   "cell_type": "markdown",
   "metadata": {},
   "source": [
    "### Estudo sobre cáusticas na teoria do raio\n",
    "\n",
    "> \"Nos pontos de cáustica a amplitude do raio se torna singular e a teoria do raio não descreve corretamente o campo de ondas nesta vizinhança.\"\n",
    "\n",
    "> \"O método do raio é uma extensão da teoria das ondas planas em um meio em que a velocidade varia suavemente.\"\n",
    "\n",
    "The ray method solution in zero order approximation in the frequency domain reads:\n",
    "\n",
    "$$ U = e^{iw\\tau} A_0 = e^{iw\\tau} \\frac{\\psi_0(\\alpha,\\beta)}{\\sqrt{\\frac{J}{C}}}$$\n",
    "\n",
    "$$ J = \\frac{1}{C} \\lvert \\frac{D(x,y,z)}{D(\\tau,\\alpha,\\beta)} \\rvert = \n",
    "\\frac{1}{C} \\lvert \\vec{r_\\tau} \\cdot (\\vec{r_\\alpha} \\times \\vec{r_\\beta}) \\rvert$$\n",
    "\n",
    "\n",
    "##### Def.: Caustic:  \n",
    "A geometrical object in which at each point the geometrical spreading $J$ vanishes. Thus, the amplitude $A_0$ gets singular on the caustics. This means that the ray method does not properly describes the real wave field in a vicinity of caustics. This is precisely what we call _caustic problems in the ray theory._\n",
    "\n",
    "#### Point source\n",
    "\n",
    "For a given family of rays in the form:\n",
    "\n",
    "$$ \\vec{r} = \\vec{r}(\\tau,\\alpha,\\beta)$$\n",
    "\n",
    "$$\\vec{r}|_{\\tau=0} = \\vec{r_A}$$"
   ]
  },
  {
   "cell_type": "markdown",
   "metadata": {},
   "source": [
    "Where $\\vec{r_A}$ denotes the possition of the source.\n",
    "\n",
    "$$\\vec{r}|_{\\tau=0} = \\vec{r}(0,\\alpha,\\beta) = \\vec{r_A}$$\n",
    "\n",
    "$$\\frac{\\partial \\vec{r}}{\\partial\\alpha}|_{\\tau=0} =\n",
    "\\lim_{d\\alpha\\to0}\\frac{\\vec{r}(0,\\alpha+d\\alpha,\\beta)-\\vec{r}(0,\\alpha,\\beta)}{d\\alpha} = 0$$\n",
    "\n",
    "$$\\vec{r}(0,\\alpha+d\\alpha,\\beta) = \\vec{r}(0,\\alpha,\\beta) = \\vec{r}|_{\\tau=0} = \\vec{r_A}$$\n",
    "\n",
    "\n",
    "$$\\frac{\\partial \\vec{r}}{\\partial\\beta}|_{\\tau=0} =\n",
    "\\lim_{d\\beta\\to0}\\frac{\\vec{r}(0,\\alpha,\\beta+d\\beta)-\\vec{r}(0,\\alpha,\\beta)}{d\\beta} = 0$$\n",
    "\n",
    "$$\\vec{r}(0,\\alpha,\\beta+d\\beta) = \\vec{r}(0,\\alpha,\\beta) = \\vec{r}|_{\\tau=0} = \\vec{r_A} $$\n",
    "\n",
    "$$\\frac{\\partial \\vec{r}}{\\partial\\alpha}|_{\\tau=0} = \n",
    "\\frac{\\partial \\vec{r}}{\\partial\\beta}|_{\\tau=0} = 0$$\n",
    "\n",
    "$$ \\vec{r_\\alpha}|_{\\tau=0} = \\vec{r_\\beta}|_{\\tau=0} = 0$$"
   ]
  },
  {
   "cell_type": "markdown",
   "metadata": {},
   "source": [
    "And therefore $J=0$ in the point source. Hence, in general the ray method is not valid in a vicinity of a point source!"
   ]
  },
  {
   "cell_type": "markdown",
   "metadata": {},
   "source": [
    "#### Caustic surface\n",
    "\n",
    "\n",
    "Assume now that the family of rays $\\vec{r} = \\vec{r}(\\tau,\\alpha,\\beta)$ in 3D has an envelope surface. It implies that each ray of the family, specified by the ray parameters $\\alpha$ and $\\beta$, touches the envelope surface at a point which corresponds to a certain value of the eikonal $\\tau$. Obviously, this value of $\\tau$ varies from ray to ray and therefore on the surface the eikonal $\\tau$ is a function of the rays parameters, $\\tau = \\tau(\\alpha,\\beta)$. By inserting this function in the equation of rays we obtain the vectorial equation of the envelope surface:\n",
    "\n",
    "$$\\vec{r} = \\vec{r}(\\tau_{(\\alpha,\\beta)},\\alpha,\\beta)$$\n",
    "\n",
    "$$\\frac{\\partial\\vec{r}}{\\partial \\tau};$$\n",
    "\n",
    "$$\\frac{d\\vec{r}}{d\\alpha}\n",
    "= \\frac{\\partial\\vec{r}}{\\partial \\tau} \\frac{\\partial\\tau}{\\partial\\alpha}+\\frac{\\partial\\vec{r}}{\\partial\\alpha} ;$$\n",
    "\n",
    "$$\\frac{d\\vec{r}}{d\\beta}=\n",
    "\\frac{\\partial\\vec{r}}{\\partial\\tau}\\frac{\\partial\\tau}{\\partial\\beta}+\\frac{\\partial\\vec{r}}{\\partial\\beta}$$\n",
    "\n",
    "then:\n",
    "\n",
    "$$ \\left(\\frac{\\partial\\vec{r}}{\\partial\\tau} \\cdot\n",
    "\\left[ \\frac{d\\vec{r}}{d\\alpha} \\times \\frac{d\\vec{r}}{d\\beta} \\right] \\right) = 0$$"
   ]
  }
 ],
 "metadata": {
  "kernelspec": {
   "display_name": "Python 3",
   "language": "python",
   "name": "python3"
  },
  "language_info": {
   "codemirror_mode": {
    "name": "ipython",
    "version": 3
   },
   "file_extension": ".py",
   "mimetype": "text/x-python",
   "name": "python",
   "nbconvert_exporter": "python",
   "pygments_lexer": "ipython3",
   "version": "3.8.2"
  }
 },
 "nbformat": 4,
 "nbformat_minor": 2
}
