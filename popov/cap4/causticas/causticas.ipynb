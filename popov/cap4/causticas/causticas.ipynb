{
 "cells": [
  {
   "cell_type": "markdown",
   "metadata": {},
   "source": [
    "### Estudo sobre cáusticas na teoria do raio\n",
    "\n",
    "> \"Nos pontos de cáustica a amplitude do raio se torna singular e a teoria do raio não descreve corretamente o campo de ondas nesta vizinhança.\"\n",
    "\n",
    "> \"O método do raio é uma extensão da teoria das ondas planas em um meio em que a velocidade varia suavemente.\""
   ]
  }
 ],
 "metadata": {
  "kernelspec": {
   "display_name": "Python 3",
   "language": "python",
   "name": "python3"
  },
  "language_info": {
   "codemirror_mode": {
    "name": "ipython",
    "version": 3
   },
   "file_extension": ".py",
   "mimetype": "text/x-python",
   "name": "python",
   "nbconvert_exporter": "python",
   "pygments_lexer": "ipython3",
   "version": "3.8.2"
  }
 },
 "nbformat": 4,
 "nbformat_minor": 2
}
